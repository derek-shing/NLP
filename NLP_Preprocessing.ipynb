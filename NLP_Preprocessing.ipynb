{
  "nbformat": 4,
  "nbformat_minor": 0,
  "metadata": {
    "colab": {
      "name": "NLP_Preprocessing.ipynb",
      "provenance": [],
      "include_colab_link": true
    },
    "kernelspec": {
      "name": "python3",
      "display_name": "Python 3"
    }
  },
  "cells": [
    {
      "cell_type": "markdown",
      "metadata": {
        "id": "view-in-github",
        "colab_type": "text"
      },
      "source": [
        "<a href=\"https://colab.research.google.com/github/derek-shing/NLP/blob/master/NLP_Preprocessing.ipynb\" target=\"_parent\"><img src=\"https://colab.research.google.com/assets/colab-badge.svg\" alt=\"Open In Colab\"/></a>"
      ]
    },
    {
      "cell_type": "code",
      "metadata": {
        "id": "QmxMN6dNFCU7",
        "colab_type": "code",
        "colab": {}
      },
      "source": [
        ""
      ],
      "execution_count": 0,
      "outputs": []
    },
    {
      "cell_type": "markdown",
      "metadata": {
        "id": "E5QhJIeAID-1",
        "colab_type": "text"
      },
      "source": [
        "Steps:\n",
        "1 . Upper/lower case\n",
        "2. Remove noise\n",
        "3. Text Normalization\n",
        "4. Stemming\n",
        "5. Lementization\n",
        "6. Tokenzation\n",
        "7. Remove stop word"
      ]
    },
    {
      "cell_type": "code",
      "metadata": {
        "id": "rNruJtlwIqaz",
        "colab_type": "code",
        "colab": {}
      },
      "source": [
        "s = \"In this exercise, we will take an input sentence with both uppercase and lowercase characters and convert them all into lowercase characters. The following steps will help you with the solution:\""
      ],
      "execution_count": 0,
      "outputs": []
    },
    {
      "cell_type": "code",
      "metadata": {
        "id": "1OpntUJTI1XO",
        "colab_type": "code",
        "colab": {
          "base_uri": "https://localhost:8080/",
          "height": 54
        },
        "outputId": "2c70cc5c-fbf0-429e-ebb0-e8c28d4e20f2"
      },
      "source": [
        "s.lower()"
      ],
      "execution_count": 4,
      "outputs": [
        {
          "output_type": "execute_result",
          "data": {
            "text/plain": [
              "'in this exercise, we will take an input sentence with both uppercase and lowercase characters and convert them all into lowercase characters. the following steps will help you with the solution:'"
            ]
          },
          "metadata": {
            "tags": []
          },
          "execution_count": 4
        }
      ]
    },
    {
      "cell_type": "markdown",
      "metadata": {
        "id": "ZFBHFfPqJpfY",
        "colab_type": "text"
      },
      "source": [
        "**2. Noise Removal using regular expression.**"
      ]
    },
    {
      "cell_type": "code",
      "metadata": {
        "id": "ZTOb4sfnJyfi",
        "colab_type": "code",
        "colab": {}
      },
      "source": [
        "import re"
      ],
      "execution_count": 0,
      "outputs": []
    },
    {
      "cell_type": "code",
      "metadata": {
        "id": "0aGQI598JyUh",
        "colab_type": "code",
        "colab": {}
      },
      "source": [
        "raw = ['..sleepy', 'sleepy!!', '#sleepy', '>>>>>sleepy>>>>', '<a>sleepy</a>']"
      ],
      "execution_count": 0,
      "outputs": []
    },
    {
      "cell_type": "code",
      "metadata": {
        "id": "4LH_n9Y9KKKL",
        "colab_type": "code",
        "colab": {}
      },
      "source": [
        "def clean_word(text):\n",
        "  text = re.sub(\"(<.*?>)\",\"\",text)\n",
        "  text=re.sub(\"(\\W|\\d+)\",\" \",text)\n",
        "  text=text.strip()\n",
        "  stemmer = PorterStemmer()\n",
        "  text = stemmer.stem(text)\n",
        "  return text"
      ],
      "execution_count": 0,
      "outputs": []
    },
    {
      "cell_type": "code",
      "metadata": {
        "id": "fR68befJLx2I",
        "colab_type": "code",
        "colab": {}
      },
      "source": [
        "final = [clean_word(i) for i in raw]"
      ],
      "execution_count": 0,
      "outputs": []
    },
    {
      "cell_type": "code",
      "metadata": {
        "id": "dbFnZFNtMT_V",
        "colab_type": "code",
        "colab": {
          "base_uri": "https://localhost:8080/",
          "height": 34
        },
        "outputId": "ddcc4d99-b129-438a-c557-ca5d3e8a4360"
      },
      "source": [
        "print(final)"
      ],
      "execution_count": 28,
      "outputs": [
        {
          "output_type": "stream",
          "text": [
            "['sleepy', 'sleepy', 'sleepy', 'sleepy', 'sleepy']\n"
          ],
          "name": "stdout"
        }
      ]
    },
    {
      "cell_type": "markdown",
      "metadata": {
        "id": "j1hKwYrAPBa4",
        "colab_type": "text"
      },
      "source": [
        "**4. Stemming**"
      ]
    },
    {
      "cell_type": "code",
      "metadata": {
        "id": "sogISPhzPU1U",
        "colab_type": "code",
        "colab": {}
      },
      "source": [
        "import pandas as pd\n",
        "import nltk\n",
        "from nltk.stem import PorterStemmer"
      ],
      "execution_count": 0,
      "outputs": []
    },
    {
      "cell_type": "code",
      "metadata": {
        "id": "W7vdPubSPkst",
        "colab_type": "code",
        "colab": {}
      },
      "source": [
        "raw = \"However, stemming doesn't always provide the desired stem, since it works by chopping off the ends of the words. It's possible for the stemmer to reduce 'troubling' to 'troubl' instead of 'trouble' and this won't really help in problem solving, and so stemming isn't a method that's used too often. When it is used, Porter's stemming algorithm is the most common algorithm for stemming.\"\n"
      ],
      "execution_count": 0,
      "outputs": []
    },
    {
      "cell_type": "code",
      "metadata": {
        "id": "Jgg0rmgYPzGR",
        "colab_type": "code",
        "colab": {
          "base_uri": "https://localhost:8080/",
          "height": 1000
        },
        "outputId": "1bbb7cf4-31b4-4432-eb69-34b13f8c091a"
      },
      "source": [
        "words = raw.split()\n",
        "[clean_word(i) for i in words]"
      ],
      "execution_count": 38,
      "outputs": [
        {
          "output_type": "execute_result",
          "data": {
            "text/plain": [
              "['howev',\n",
              " 'stem',\n",
              " 'doesn t',\n",
              " 'alway',\n",
              " 'provid',\n",
              " 'the',\n",
              " 'desir',\n",
              " 'stem',\n",
              " 'sinc',\n",
              " 'it',\n",
              " 'work',\n",
              " 'by',\n",
              " 'chop',\n",
              " 'off',\n",
              " 'the',\n",
              " 'end',\n",
              " 'of',\n",
              " 'the',\n",
              " 'word',\n",
              " 'it ',\n",
              " 'possibl',\n",
              " 'for',\n",
              " 'the',\n",
              " 'stemmer',\n",
              " 'to',\n",
              " 'reduc',\n",
              " 'troubl',\n",
              " 'to',\n",
              " 'troubl',\n",
              " 'instead',\n",
              " 'of',\n",
              " 'troubl',\n",
              " 'and',\n",
              " 'thi',\n",
              " 'won t',\n",
              " 'realli',\n",
              " 'help',\n",
              " 'in',\n",
              " 'problem',\n",
              " 'solv',\n",
              " 'and',\n",
              " 'so',\n",
              " 'stem',\n",
              " 'isn t',\n",
              " 'a',\n",
              " 'method',\n",
              " 'that ',\n",
              " 'use',\n",
              " 'too',\n",
              " 'often',\n",
              " 'when',\n",
              " 'it',\n",
              " 'is',\n",
              " 'use',\n",
              " 'porter ',\n",
              " 'stem',\n",
              " 'algorithm',\n",
              " 'is',\n",
              " 'the',\n",
              " 'most',\n",
              " 'common',\n",
              " 'algorithm',\n",
              " 'for',\n",
              " 'stem']"
            ]
          },
          "metadata": {
            "tags": []
          },
          "execution_count": 38
        }
      ]
    }
  ]
}