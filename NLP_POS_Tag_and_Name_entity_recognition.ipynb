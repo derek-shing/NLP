{
  "nbformat": 4,
  "nbformat_minor": 0,
  "metadata": {
    "colab": {
      "name": "NLP_POS Tag and Name_entity_recognition.ipynb",
      "provenance": [],
      "include_colab_link": true
    },
    "kernelspec": {
      "name": "python3",
      "display_name": "Python 3"
    }
  },
  "cells": [
    {
      "cell_type": "markdown",
      "metadata": {
        "id": "view-in-github",
        "colab_type": "text"
      },
      "source": [
        "<a href=\"https://colab.research.google.com/github/derek-shing/NLP/blob/master/NLP_POS_Tag_and_Name_entity_recognition.ipynb\" target=\"_parent\"><img src=\"https://colab.research.google.com/assets/colab-badge.svg\" alt=\"Open In Colab\"/></a>"
      ]
    },
    {
      "cell_type": "markdown",
      "metadata": {
        "id": "yX2VuJz-6Deb",
        "colab_type": "text"
      },
      "source": [
        "-Use nltk POS tagger\n",
        "\n",
        "-Use spaCy POS tagger\n",
        "\n",
        "-Name Entity Recognition\n",
        "\n"
      ]
    },
    {
      "cell_type": "code",
      "metadata": {
        "id": "vOluO7Ig5s2g",
        "colab_type": "code",
        "colab": {
          "base_uri": "https://localhost:8080/",
          "height": 153
        },
        "outputId": "9f933b54-10c9-4e6c-9eb4-4443b9ef2ca1"
      },
      "source": [
        "import nltk\n",
        "nltk.download('punkt')\n",
        "\n",
        "nltk.download('averaged_perceptron_tagger')\n",
        "\n",
        "nltk.download('tagsets')"
      ],
      "execution_count": 2,
      "outputs": [
        {
          "output_type": "stream",
          "text": [
            "[nltk_data] Downloading package punkt to /root/nltk_data...\n",
            "[nltk_data]   Unzipping tokenizers/punkt.zip.\n",
            "[nltk_data] Downloading package averaged_perceptron_tagger to\n",
            "[nltk_data]     /root/nltk_data...\n",
            "[nltk_data]   Unzipping taggers/averaged_perceptron_tagger.zip.\n",
            "[nltk_data] Downloading package tagsets to /root/nltk_data...\n",
            "[nltk_data]   Unzipping help/tagsets.zip.\n"
          ],
          "name": "stdout"
        },
        {
          "output_type": "execute_result",
          "data": {
            "text/plain": [
              "True"
            ]
          },
          "metadata": {
            "tags": []
          },
          "execution_count": 2
        }
      ]
    },
    {
      "cell_type": "code",
      "metadata": {
        "id": "Ix4gwGpe74iN",
        "colab_type": "code",
        "colab": {}
      },
      "source": [
        "from nltk.tokenize import word_tokenize"
      ],
      "execution_count": 0,
      "outputs": []
    },
    {
      "cell_type": "code",
      "metadata": {
        "id": "1TjQcZmL7w8H",
        "colab_type": "code",
        "colab": {}
      },
      "source": [
        "new =\"Wells Fargo put a $60 price target on the ride-share company. Yahoo Finance's Jen Rogers, Myles Udland and Melody Hahm take a closer look at the note on The Final Round.\""
      ],
      "execution_count": 0,
      "outputs": []
    },
    {
      "cell_type": "code",
      "metadata": {
        "id": "XgFIu3MV70SB",
        "colab_type": "code",
        "colab": {}
      },
      "source": [
        "token = word_tokenize(new)"
      ],
      "execution_count": 0,
      "outputs": []
    },
    {
      "cell_type": "code",
      "metadata": {
        "id": "lu2X4eX08CkY",
        "colab_type": "code",
        "colab": {}
      },
      "source": [
        "token"
      ],
      "execution_count": 0,
      "outputs": []
    },
    {
      "cell_type": "code",
      "metadata": {
        "id": "SmtmLlfr8SU_",
        "colab_type": "code",
        "colab": {
          "base_uri": "https://localhost:8080/",
          "height": 629
        },
        "outputId": "c9278203-2993-48dc-8036-591e62ea7f9b"
      },
      "source": [
        "tag = nltk.pos_tag(token)\n",
        "tag"
      ],
      "execution_count": 8,
      "outputs": [
        {
          "output_type": "execute_result",
          "data": {
            "text/plain": [
              "[('Wells', 'NNP'),\n",
              " ('Fargo', 'NNP'),\n",
              " ('put', 'VBD'),\n",
              " ('a', 'DT'),\n",
              " ('$', '$'),\n",
              " ('60', 'CD'),\n",
              " ('price', 'NN'),\n",
              " ('target', 'NN'),\n",
              " ('on', 'IN'),\n",
              " ('the', 'DT'),\n",
              " ('ride-share', 'JJ'),\n",
              " ('company', 'NN'),\n",
              " ('.', '.'),\n",
              " ('Yahoo', 'NNP'),\n",
              " ('Finance', 'NNP'),\n",
              " (\"'s\", 'POS'),\n",
              " ('Jen', 'NNP'),\n",
              " ('Rogers', 'NNP'),\n",
              " (',', ','),\n",
              " ('Myles', 'NNP'),\n",
              " ('Udland', 'NNP'),\n",
              " ('and', 'CC'),\n",
              " ('Melody', 'NNP'),\n",
              " ('Hahm', 'NNP'),\n",
              " ('take', 'VB'),\n",
              " ('a', 'DT'),\n",
              " ('closer', 'JJR'),\n",
              " ('look', 'NN'),\n",
              " ('at', 'IN'),\n",
              " ('the', 'DT'),\n",
              " ('note', 'NN'),\n",
              " ('on', 'IN'),\n",
              " ('The', 'DT'),\n",
              " ('Final', 'NNP'),\n",
              " ('Round', 'NNP'),\n",
              " ('.', '.')]"
            ]
          },
          "metadata": {
            "tags": []
          },
          "execution_count": 8
        }
      ]
    },
    {
      "cell_type": "markdown",
      "metadata": {
        "id": "-5T_nsPn9mZg",
        "colab_type": "text"
      },
      "source": [
        "**spaCy POS model**\n",
        "\n",
        "https://spacy.io/models."
      ]
    },
    {
      "cell_type": "code",
      "metadata": {
        "id": "EueOea1r9Sop",
        "colab_type": "code",
        "colab": {}
      },
      "source": [
        "import spacy"
      ],
      "execution_count": 0,
      "outputs": []
    },
    {
      "cell_type": "code",
      "metadata": {
        "id": "2xK7JGg39tXj",
        "colab_type": "code",
        "colab": {}
      },
      "source": [
        "spacy_pos_model = spacy.load('en_core_web_sm')"
      ],
      "execution_count": 0,
      "outputs": []
    },
    {
      "cell_type": "code",
      "metadata": {
        "id": "UMufR1pu-mZV",
        "colab_type": "code",
        "colab": {}
      },
      "source": [
        "doc = spacy_pos_model(new)"
      ],
      "execution_count": 0,
      "outputs": []
    },
    {
      "cell_type": "code",
      "metadata": {
        "id": "RB5cjkODGzAo",
        "colab_type": "code",
        "colab": {}
      },
      "source": [
        ""
      ],
      "execution_count": 0,
      "outputs": []
    },
    {
      "cell_type": "code",
      "metadata": {
        "id": "9otLjMvO-qtQ",
        "colab_type": "code",
        "colab": {}
      },
      "source": [
        "for token in doc:\n",
        "  print(f\"{token.text}:  POS:{token.pos_}\")"
      ],
      "execution_count": 0,
      "outputs": []
    },
    {
      "cell_type": "markdown",
      "metadata": {
        "id": "LX-BQ_LaBKIQ",
        "colab_type": "text"
      },
      "source": [
        "Chunking"
      ]
    },
    {
      "cell_type": "code",
      "metadata": {
        "id": "8um1wGYWBIpJ",
        "colab_type": "code",
        "colab": {
          "base_uri": "https://localhost:8080/",
          "height": 170
        },
        "outputId": "2fbbbf52-79b7-4cc5-e207-e141a5828adb"
      },
      "source": [
        "for nc in doc.noun_chunks:\n",
        "  print(nc.text)"
      ],
      "execution_count": 17,
      "outputs": [
        {
          "output_type": "stream",
          "text": [
            "Wells Fargo\n",
            "a $60 price target\n",
            "the ride-share company\n",
            "Yahoo Finance's Jen Rogers\n",
            "Myles Udland\n",
            "Melody Hahm\n",
            "a closer look\n",
            "the note\n",
            "The Final Round\n"
          ],
          "name": "stdout"
        }
      ]
    },
    {
      "cell_type": "code",
      "metadata": {
        "id": "jKpRCHrlGKeI",
        "colab_type": "code",
        "colab": {
          "base_uri": "https://localhost:8080/",
          "height": 136
        },
        "outputId": "80e2aaa9-8378-4a77-81ad-0589c7b37089"
      },
      "source": [
        "for ent in doc.ents:\n",
        "  print(ent, ent.label_)"
      ],
      "execution_count": 20,
      "outputs": [
        {
          "output_type": "stream",
          "text": [
            "Wells Fargo ORG\n",
            "60 MONEY\n",
            "Yahoo Finance's ORG\n",
            "Jen Rogers PERSON\n",
            "Myles Udland ORG\n",
            "Melody Hahm PERSON\n",
            "The Final Round WORK_OF_ART\n"
          ],
          "name": "stdout"
        }
      ]
    },
    {
      "cell_type": "code",
      "metadata": {
        "id": "7x5bVawyGq2Y",
        "colab_type": "code",
        "colab": {}
      },
      "source": [
        ""
      ],
      "execution_count": 0,
      "outputs": []
    }
  ]
}